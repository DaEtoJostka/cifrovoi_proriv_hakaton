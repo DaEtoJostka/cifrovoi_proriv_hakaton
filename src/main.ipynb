{
 "cells": [
  {
   "cell_type": "code",
   "execution_count": 4,
   "metadata": {},
   "outputs": [],
   "source": [
    "import numpy as np\n",
    "import matplotlib.pyplot as pl\n",
    "import sklearn\n",
    "import pandas as pd"
   ]
  },
  {
   "cell_type": "markdown",
   "metadata": {},
   "source": [
    "Построить временной ряд с суммами покупки\n",
    "\n",
    "Построить временной ряд где мы смотрим по промежуток между покупками\n",
    "\n",
    "Интерполяция функции по временному ряду\n"
   ]
  },
  {
   "cell_type": "code",
   "execution_count": 7,
   "metadata": {},
   "outputs": [
    {
     "data": {
      "text/html": [
       "<div>\n",
       "<style scoped>\n",
       "    .dataframe tbody tr th:only-of-type {\n",
       "        vertical-align: middle;\n",
       "    }\n",
       "\n",
       "    .dataframe tbody tr th {\n",
       "        vertical-align: top;\n",
       "    }\n",
       "\n",
       "    .dataframe thead th {\n",
       "        text-align: right;\n",
       "    }\n",
       "</style>\n",
       "<table border=\"1\" class=\"dataframe\">\n",
       "  <thead>\n",
       "    <tr style=\"text-align: right;\">\n",
       "      <th></th>\n",
       "      <th>customer_id</th>\n",
       "      <th>date_diff_post</th>\n",
       "      <th>buy_post</th>\n",
       "      <th>group_name</th>\n",
       "      <th>revenue</th>\n",
       "      <th>startdatetime</th>\n",
       "      <th>dish_name</th>\n",
       "      <th>ownareaall_sqm</th>\n",
       "      <th>format_name</th>\n",
       "    </tr>\n",
       "  </thead>\n",
       "  <tbody>\n",
       "    <tr>\n",
       "      <th>0</th>\n",
       "      <td>29891</td>\n",
       "      <td>9.0</td>\n",
       "      <td>1</td>\n",
       "      <td>train</td>\n",
       "      <td>69.99</td>\n",
       "      <td>2022-12-05 12:03:58</td>\n",
       "      <td>Кинг Фри станд</td>\n",
       "      <td>300.0</td>\n",
       "      <td>Отдельно стоящий без внешней зоны</td>\n",
       "    </tr>\n",
       "    <tr>\n",
       "      <th>1</th>\n",
       "      <td>29891</td>\n",
       "      <td>9.0</td>\n",
       "      <td>1</td>\n",
       "      <td>train</td>\n",
       "      <td>190.00</td>\n",
       "      <td>2022-12-05 12:03:58</td>\n",
       "      <td>Чикен Тар-Тар</td>\n",
       "      <td>300.0</td>\n",
       "      <td>Отдельно стоящий без внешней зоны</td>\n",
       "    </tr>\n",
       "    <tr>\n",
       "      <th>2</th>\n",
       "      <td>29891</td>\n",
       "      <td>9.0</td>\n",
       "      <td>1</td>\n",
       "      <td>train</td>\n",
       "      <td>9.99</td>\n",
       "      <td>2022-12-05 12:03:58</td>\n",
       "      <td>Соус Сырный</td>\n",
       "      <td>300.0</td>\n",
       "      <td>Отдельно стоящий без внешней зоны</td>\n",
       "    </tr>\n",
       "    <tr>\n",
       "      <th>3</th>\n",
       "      <td>29891</td>\n",
       "      <td>9.0</td>\n",
       "      <td>1</td>\n",
       "      <td>train</td>\n",
       "      <td>119.99</td>\n",
       "      <td>2022-12-05 12:03:58</td>\n",
       "      <td>Энергет.нап. Адреналин Раш</td>\n",
       "      <td>300.0</td>\n",
       "      <td>Отдельно стоящий без внешней зоны</td>\n",
       "    </tr>\n",
       "    <tr>\n",
       "      <th>4</th>\n",
       "      <td>29891</td>\n",
       "      <td>9.0</td>\n",
       "      <td>1</td>\n",
       "      <td>train</td>\n",
       "      <td>119.99</td>\n",
       "      <td>2022-12-05 14:28:35</td>\n",
       "      <td>Латте (СТАНД.)</td>\n",
       "      <td>300.0</td>\n",
       "      <td>Отдельно стоящий без внешней зоны</td>\n",
       "    </tr>\n",
       "  </tbody>\n",
       "</table>\n",
       "</div>"
      ],
      "text/plain": [
       "   customer_id  date_diff_post  buy_post group_name  revenue  \\\n",
       "0        29891             9.0         1      train    69.99   \n",
       "1        29891             9.0         1      train   190.00   \n",
       "2        29891             9.0         1      train     9.99   \n",
       "3        29891             9.0         1      train   119.99   \n",
       "4        29891             9.0         1      train   119.99   \n",
       "\n",
       "        startdatetime                   dish_name  ownareaall_sqm  \\\n",
       "0 2022-12-05 12:03:58              Кинг Фри станд           300.0   \n",
       "1 2022-12-05 12:03:58               Чикен Тар-Тар           300.0   \n",
       "2 2022-12-05 12:03:58                 Соус Сырный           300.0   \n",
       "3 2022-12-05 12:03:58  Энергет.нап. Адреналин Раш           300.0   \n",
       "4 2022-12-05 14:28:35              Латте (СТАНД.)           300.0   \n",
       "\n",
       "                         format_name  \n",
       "0  Отдельно стоящий без внешней зоны  \n",
       "1  Отдельно стоящий без внешней зоны  \n",
       "2  Отдельно стоящий без внешней зоны  \n",
       "3  Отдельно стоящий без внешней зоны  \n",
       "4  Отдельно стоящий без внешней зоны  "
      ]
     },
     "execution_count": 7,
     "metadata": {},
     "output_type": "execute_result"
    }
   ],
   "source": [
    "data = pd.read_parquet(r\"D:\\MyFolder\\2.Work\\DigitalBreaktrough\\cifrovoi_proriv_hakaton\\data\\raw\\train_dataset_hackaton2023_train.gzip\")\n",
    "data.head()"
   ]
  },
  {
   "cell_type": "code",
   "execution_count": 60,
   "metadata": {},
   "outputs": [],
   "source": [
    "data_sorted = data.sort_values(by=['customer_id', 'startdatetime'])\n",
    "\n",
    "# Добавление столбца с разницей времени\n",
    "data_sorted['time_diff'] = data_sorted.groupby('customer_id')['startdatetime'].diff()\n",
    "\n",
    "# Идентификация новых заказов\n",
    "threshold1 = pd.Timedelta('1 day')  # Пороговое значение, можно изменить по необходимости\n",
    "data_sorted['new_order'] = data_sorted['time_diff'] > threshold1\n",
    "\n",
    "# Преобразование разницы во времени в количество дней (float)\n",
    "data_sorted['time_diff_days'] = data_sorted['time_diff'].dt.days.astype(float)\n",
    "\n",
    "# Группировка и сбор результатов\n",
    "result = data_sorted.groupby('customer_id')['time_diff_days'].agg(list)"
   ]
  },
  {
   "cell_type": "code",
   "execution_count": 61,
   "metadata": {},
   "outputs": [
    {
     "data": {
      "text/plain": [
       "customer_id\n",
       "29891       [nan, 0.0, 0.0, 0.0, 0.0, 9.0, 0.0, 5.0, 1.0, ...\n",
       "30477       [nan, 0.0, 1.0, 0.0, 0.0, 0.0, 0.0, 0.0, 0.0, ...\n",
       "31426       [nan, 0.0, 0.0, 6.0, 0.0, 0.0, 4.0, 0.0, 0.0, ...\n",
       "44491       [nan, 0.0, 0.0, 0.0, 0.0, 0.0, 0.0, 26.0, 0.0,...\n",
       "44939       [nan, 0.0, 0.0, 0.0, 0.0, 0.0, 0.0, 0.0, 0.0, ...\n",
       "                                  ...                        \n",
       "46624509    [nan, 0.0, 0.0, 0.0, 0.0, 0.0, 1.0, 0.0, 0.0, ...\n",
       "46625265    [nan, 0.0, 0.0, 0.0, 0.0, 0.0, 0.0, 0.0, 0.0, ...\n",
       "46639170    [nan, 0.0, 0.0, 0.0, 0.0, 0.0, 0.0, 0.0, 0.0, ...\n",
       "46654016                       [nan, 0.0, 0.0, 0.0, 0.0, 0.0]\n",
       "46661804    [nan, 0.0, 0.0, 0.0, 0.0, 0.0, 0.0, 0.0, 0.0, ...\n",
       "Name: time_diff_days, Length: 500000, dtype: object"
      ]
     },
     "execution_count": 61,
     "metadata": {},
     "output_type": "execute_result"
    }
   ],
   "source": [
    "result"
   ]
  },
  {
   "cell_type": "code",
   "execution_count": 65,
   "metadata": {},
   "outputs": [
    {
     "data": {
      "text/plain": [
       "customer_id\n",
       "29891       [0.0, 0.0, 0.0, 0.0, 9.0, 0.0, 5.0, 1.0, 0.0, ...\n",
       "30477       [0.0, 1.0, 0.0, 0.0, 0.0, 0.0, 0.0, 0.0, 4.0, ...\n",
       "31426       [0.0, 0.0, 6.0, 0.0, 0.0, 4.0, 0.0, 0.0, 0.0, ...\n",
       "44491          [0.0, 0.0, 0.0, 0.0, 0.0, 0.0, 26.0, 0.0, 0.0]\n",
       "44939       [0.0, 0.0, 0.0, 0.0, 0.0, 0.0, 0.0, 0.0, 7.0, ...\n",
       "                                  ...                        \n",
       "46624509    [0.0, 0.0, 0.0, 0.0, 0.0, 1.0, 0.0, 0.0, 0.0, ...\n",
       "46625265    [0.0, 0.0, 0.0, 0.0, 0.0, 0.0, 0.0, 0.0, 0.0, ...\n",
       "46639170    [0.0, 0.0, 0.0, 0.0, 0.0, 0.0, 0.0, 0.0, 0.0, ...\n",
       "46654016                            [0.0, 0.0, 0.0, 0.0, 0.0]\n",
       "46661804    [0.0, 0.0, 0.0, 0.0, 0.0, 0.0, 0.0, 0.0, 0.0, ...\n",
       "Name: time_diff_days, Length: 500000, dtype: object"
      ]
     },
     "execution_count": 65,
     "metadata": {},
     "output_type": "execute_result"
    }
   ],
   "source": [
    "result_modified = result.apply(lambda x: x[1:] if len(x) > 1 else x)\n",
    "result_modified"
   ]
  },
  {
   "cell_type": "code",
   "execution_count": 66,
   "metadata": {},
   "outputs": [
    {
     "data": {
      "text/plain": [
       "[0.0, 0.0, 0.0, 0.0, 0.0, 0.0, 0.0, 0.0, 0.0, 0.0, 0.0, 0.0, 0.0, 0.0]"
      ]
     },
     "execution_count": 66,
     "metadata": {},
     "output_type": "execute_result"
    }
   ],
   "source": [
    "result_modified[46661804]"
   ]
  },
  {
   "cell_type": "code",
   "execution_count": 71,
   "metadata": {},
   "outputs": [
    {
     "data": {
      "text/plain": [
       "customer_id\n",
       "46598535       []\n",
       "46599400       []\n",
       "46606537    [1.0]\n",
       "46609455    [1.0]\n",
       "46617009       []\n",
       "46624509    [1.0]\n",
       "46625265       []\n",
       "46639170       []\n",
       "46654016       []\n",
       "46661804       []\n",
       "Name: time_diff_days, dtype: object"
      ]
     },
     "execution_count": 71,
     "metadata": {},
     "output_type": "execute_result"
    }
   ],
   "source": [
    "result_modified = result_modified.apply(lambda x: [item for item in x if item != 0] if x else x)\n",
    "result_modified.tail(10)"
   ]
  },
  {
   "cell_type": "code",
   "execution_count": null,
   "metadata": {},
   "outputs": [],
   "source": []
  },
  {
   "cell_type": "markdown",
   "metadata": {},
   "source": [
    "## Изучение возвращаемости клиентов"
   ]
  },
  {
   "cell_type": "code",
   "execution_count": 69,
   "metadata": {},
   "outputs": [
    {
     "data": {
      "text/html": [
       "<div>\n",
       "<style scoped>\n",
       "    .dataframe tbody tr th:only-of-type {\n",
       "        vertical-align: middle;\n",
       "    }\n",
       "\n",
       "    .dataframe tbody tr th {\n",
       "        vertical-align: top;\n",
       "    }\n",
       "\n",
       "    .dataframe thead th {\n",
       "        text-align: right;\n",
       "    }\n",
       "</style>\n",
       "<table border=\"1\" class=\"dataframe\">\n",
       "  <thead>\n",
       "    <tr style=\"text-align: right;\">\n",
       "      <th></th>\n",
       "      <th>customer_id</th>\n",
       "      <th>date_diff_post</th>\n",
       "      <th>buy_post</th>\n",
       "      <th>group_name</th>\n",
       "      <th>revenue</th>\n",
       "      <th>startdatetime</th>\n",
       "      <th>dish_name</th>\n",
       "      <th>ownareaall_sqm</th>\n",
       "      <th>format_name</th>\n",
       "    </tr>\n",
       "  </thead>\n",
       "  <tbody>\n",
       "    <tr>\n",
       "      <th>24261964</th>\n",
       "      <td>46661804</td>\n",
       "      <td>NaN</td>\n",
       "      <td>0</td>\n",
       "      <td>train</td>\n",
       "      <td>89.99</td>\n",
       "      <td>2023-08-01 17:50:26</td>\n",
       "      <td>Двойной Чизбургер</td>\n",
       "      <td>300.0</td>\n",
       "      <td>Фудкорт с туалетом</td>\n",
       "    </tr>\n",
       "    <tr>\n",
       "      <th>24261965</th>\n",
       "      <td>46661804</td>\n",
       "      <td>NaN</td>\n",
       "      <td>0</td>\n",
       "      <td>train</td>\n",
       "      <td>70.00</td>\n",
       "      <td>2023-08-01 17:50:26</td>\n",
       "      <td>Кинг Фри станд</td>\n",
       "      <td>300.0</td>\n",
       "      <td>Фудкорт с туалетом</td>\n",
       "    </tr>\n",
       "    <tr>\n",
       "      <th>24261966</th>\n",
       "      <td>46661804</td>\n",
       "      <td>NaN</td>\n",
       "      <td>0</td>\n",
       "      <td>train</td>\n",
       "      <td>100.00</td>\n",
       "      <td>2023-08-01 17:50:26</td>\n",
       "      <td>Фрустайл Лимон Лайм мал 0,4</td>\n",
       "      <td>300.0</td>\n",
       "      <td>Фудкорт с туалетом</td>\n",
       "    </tr>\n",
       "    <tr>\n",
       "      <th>24261967</th>\n",
       "      <td>46661804</td>\n",
       "      <td>NaN</td>\n",
       "      <td>0</td>\n",
       "      <td>train</td>\n",
       "      <td>17.99</td>\n",
       "      <td>2023-08-01 18:01:40</td>\n",
       "      <td>Кинг Фри мал</td>\n",
       "      <td>300.0</td>\n",
       "      <td>Фудкорт с туалетом</td>\n",
       "    </tr>\n",
       "    <tr>\n",
       "      <th>24261968</th>\n",
       "      <td>46661804</td>\n",
       "      <td>NaN</td>\n",
       "      <td>0</td>\n",
       "      <td>train</td>\n",
       "      <td>79.98</td>\n",
       "      <td>2023-08-01 18:01:40</td>\n",
       "      <td>Чизбургер</td>\n",
       "      <td>300.0</td>\n",
       "      <td>Фудкорт с туалетом</td>\n",
       "    </tr>\n",
       "    <tr>\n",
       "      <th>24261969</th>\n",
       "      <td>46661804</td>\n",
       "      <td>NaN</td>\n",
       "      <td>0</td>\n",
       "      <td>train</td>\n",
       "      <td>89.98</td>\n",
       "      <td>2023-08-01 18:01:40</td>\n",
       "      <td>Сандэй Шоколадный</td>\n",
       "      <td>300.0</td>\n",
       "      <td>Фудкорт с туалетом</td>\n",
       "    </tr>\n",
       "    <tr>\n",
       "      <th>24261970</th>\n",
       "      <td>46661804</td>\n",
       "      <td>NaN</td>\n",
       "      <td>0</td>\n",
       "      <td>train</td>\n",
       "      <td>70.03</td>\n",
       "      <td>2023-08-01 18:01:40</td>\n",
       "      <td>Наггетсы (3 шт.)</td>\n",
       "      <td>300.0</td>\n",
       "      <td>Фудкорт с туалетом</td>\n",
       "    </tr>\n",
       "    <tr>\n",
       "      <th>24261971</th>\n",
       "      <td>46661804</td>\n",
       "      <td>NaN</td>\n",
       "      <td>0</td>\n",
       "      <td>train</td>\n",
       "      <td>7.99</td>\n",
       "      <td>2023-08-01 18:01:40</td>\n",
       "      <td>Липтон Лимон Дж 0,3</td>\n",
       "      <td>300.0</td>\n",
       "      <td>Фудкорт с туалетом</td>\n",
       "    </tr>\n",
       "    <tr>\n",
       "      <th>24261972</th>\n",
       "      <td>46661804</td>\n",
       "      <td>NaN</td>\n",
       "      <td>0</td>\n",
       "      <td>train</td>\n",
       "      <td>19.00</td>\n",
       "      <td>2023-08-01 18:01:40</td>\n",
       "      <td>Сырные Медальоны (3 шт.)</td>\n",
       "      <td>300.0</td>\n",
       "      <td>Фудкорт с туалетом</td>\n",
       "    </tr>\n",
       "    <tr>\n",
       "      <th>24261973</th>\n",
       "      <td>46661804</td>\n",
       "      <td>NaN</td>\n",
       "      <td>0</td>\n",
       "      <td>train</td>\n",
       "      <td>89.98</td>\n",
       "      <td>2023-08-01 18:04:56</td>\n",
       "      <td>Сандэй Шоколадный</td>\n",
       "      <td>300.0</td>\n",
       "      <td>Фудкорт с туалетом</td>\n",
       "    </tr>\n",
       "    <tr>\n",
       "      <th>24261974</th>\n",
       "      <td>46661804</td>\n",
       "      <td>NaN</td>\n",
       "      <td>0</td>\n",
       "      <td>train</td>\n",
       "      <td>7.99</td>\n",
       "      <td>2023-08-01 18:04:56</td>\n",
       "      <td>Эвервесс Кола джун 0,3л</td>\n",
       "      <td>300.0</td>\n",
       "      <td>Фудкорт с туалетом</td>\n",
       "    </tr>\n",
       "    <tr>\n",
       "      <th>24261975</th>\n",
       "      <td>46661804</td>\n",
       "      <td>NaN</td>\n",
       "      <td>0</td>\n",
       "      <td>train</td>\n",
       "      <td>84.98</td>\n",
       "      <td>2023-08-01 18:04:56</td>\n",
       "      <td>Воппер Джуниор</td>\n",
       "      <td>300.0</td>\n",
       "      <td>Фудкорт с туалетом</td>\n",
       "    </tr>\n",
       "    <tr>\n",
       "      <th>24261976</th>\n",
       "      <td>46661804</td>\n",
       "      <td>NaN</td>\n",
       "      <td>0</td>\n",
       "      <td>train</td>\n",
       "      <td>70.03</td>\n",
       "      <td>2023-08-01 18:04:56</td>\n",
       "      <td>Наггетсы (3 шт.)</td>\n",
       "      <td>300.0</td>\n",
       "      <td>Фудкорт с туалетом</td>\n",
       "    </tr>\n",
       "    <tr>\n",
       "      <th>24261977</th>\n",
       "      <td>46661804</td>\n",
       "      <td>NaN</td>\n",
       "      <td>0</td>\n",
       "      <td>train</td>\n",
       "      <td>19.00</td>\n",
       "      <td>2023-08-01 18:04:56</td>\n",
       "      <td>Сырные Медальоны (3 шт.)</td>\n",
       "      <td>300.0</td>\n",
       "      <td>Фудкорт с туалетом</td>\n",
       "    </tr>\n",
       "    <tr>\n",
       "      <th>24261978</th>\n",
       "      <td>46661804</td>\n",
       "      <td>NaN</td>\n",
       "      <td>0</td>\n",
       "      <td>train</td>\n",
       "      <td>17.99</td>\n",
       "      <td>2023-08-01 18:04:56</td>\n",
       "      <td>Кинг Фри мал</td>\n",
       "      <td>300.0</td>\n",
       "      <td>Фудкорт с туалетом</td>\n",
       "    </tr>\n",
       "  </tbody>\n",
       "</table>\n",
       "</div>"
      ],
      "text/plain": [
       "          customer_id  date_diff_post  buy_post group_name  revenue  \\\n",
       "24261964     46661804             NaN         0      train    89.99   \n",
       "24261965     46661804             NaN         0      train    70.00   \n",
       "24261966     46661804             NaN         0      train   100.00   \n",
       "24261967     46661804             NaN         0      train    17.99   \n",
       "24261968     46661804             NaN         0      train    79.98   \n",
       "24261969     46661804             NaN         0      train    89.98   \n",
       "24261970     46661804             NaN         0      train    70.03   \n",
       "24261971     46661804             NaN         0      train     7.99   \n",
       "24261972     46661804             NaN         0      train    19.00   \n",
       "24261973     46661804             NaN         0      train    89.98   \n",
       "24261974     46661804             NaN         0      train     7.99   \n",
       "24261975     46661804             NaN         0      train    84.98   \n",
       "24261976     46661804             NaN         0      train    70.03   \n",
       "24261977     46661804             NaN         0      train    19.00   \n",
       "24261978     46661804             NaN         0      train    17.99   \n",
       "\n",
       "               startdatetime                    dish_name  ownareaall_sqm  \\\n",
       "24261964 2023-08-01 17:50:26            Двойной Чизбургер           300.0   \n",
       "24261965 2023-08-01 17:50:26               Кинг Фри станд           300.0   \n",
       "24261966 2023-08-01 17:50:26  Фрустайл Лимон Лайм мал 0,4           300.0   \n",
       "24261967 2023-08-01 18:01:40                 Кинг Фри мал           300.0   \n",
       "24261968 2023-08-01 18:01:40                    Чизбургер           300.0   \n",
       "24261969 2023-08-01 18:01:40            Сандэй Шоколадный           300.0   \n",
       "24261970 2023-08-01 18:01:40             Наггетсы (3 шт.)           300.0   \n",
       "24261971 2023-08-01 18:01:40          Липтон Лимон Дж 0,3           300.0   \n",
       "24261972 2023-08-01 18:01:40     Сырные Медальоны (3 шт.)           300.0   \n",
       "24261973 2023-08-01 18:04:56            Сандэй Шоколадный           300.0   \n",
       "24261974 2023-08-01 18:04:56      Эвервесс Кола джун 0,3л           300.0   \n",
       "24261975 2023-08-01 18:04:56               Воппер Джуниор           300.0   \n",
       "24261976 2023-08-01 18:04:56             Наггетсы (3 шт.)           300.0   \n",
       "24261977 2023-08-01 18:04:56     Сырные Медальоны (3 шт.)           300.0   \n",
       "24261978 2023-08-01 18:04:56                 Кинг Фри мал           300.0   \n",
       "\n",
       "                 format_name  \n",
       "24261964  Фудкорт с туалетом  \n",
       "24261965  Фудкорт с туалетом  \n",
       "24261966  Фудкорт с туалетом  \n",
       "24261967  Фудкорт с туалетом  \n",
       "24261968  Фудкорт с туалетом  \n",
       "24261969  Фудкорт с туалетом  \n",
       "24261970  Фудкорт с туалетом  \n",
       "24261971  Фудкорт с туалетом  \n",
       "24261972  Фудкорт с туалетом  \n",
       "24261973  Фудкорт с туалетом  \n",
       "24261974  Фудкорт с туалетом  \n",
       "24261975  Фудкорт с туалетом  \n",
       "24261976  Фудкорт с туалетом  \n",
       "24261977  Фудкорт с туалетом  \n",
       "24261978  Фудкорт с туалетом  "
      ]
     },
     "execution_count": 69,
     "metadata": {},
     "output_type": "execute_result"
    }
   ],
   "source": [
    "data[data[\"customer_id\"]==46661804]"
   ]
  },
  {
   "cell_type": "code",
   "execution_count": 76,
   "metadata": {},
   "outputs": [
    {
     "data": {
      "text/plain": [
       "customer_id\n",
       "36054024    33\n",
       "292143      32\n",
       "12615056    32\n",
       "19168730    31\n",
       "218116      31\n",
       "            ..\n",
       "39238540     0\n",
       "2690962      0\n",
       "19538974     0\n",
       "19541704     0\n",
       "46661804     0\n",
       "Name: time_diff_days, Length: 500000, dtype: int64"
      ]
     },
     "execution_count": 76,
     "metadata": {},
     "output_type": "execute_result"
    }
   ],
   "source": [
    "result_sorted = result_modified.apply(len).sort_values(ascending=False)\n",
    "result_sorted"
   ]
  },
  {
   "cell_type": "code",
   "execution_count": 114,
   "metadata": {},
   "outputs": [
    {
     "data": {
      "text/plain": [
       "customer_id\n",
       "36241555    15\n",
       "18229790    15\n",
       "11982017    15\n",
       "17797572    15\n",
       "36243756    15\n",
       "            ..\n",
       "39238540     0\n",
       "2690962      0\n",
       "19538974     0\n",
       "19541704     0\n",
       "46661804     0\n",
       "Name: time_diff_days, Length: 494505, dtype: int64"
      ]
     },
     "execution_count": 114,
     "metadata": {},
     "output_type": "execute_result"
    }
   ],
   "source": [
    "result_zero = result_sorted[result_sorted < 10]"
   ]
  },
  {
   "cell_type": "code",
   "execution_count": 86,
   "metadata": {},
   "outputs": [
    {
     "data": {
      "text/plain": [
       "customer_id\n",
       "21094629    9\n",
       "37914379    9\n",
       "24068114    9\n",
       "14386430    9\n",
       "16916607    9\n",
       "           ..\n",
       "39238540    0\n",
       "2690962     0\n",
       "19538974    0\n",
       "19541704    0\n",
       "46661804    0\n",
       "Name: time_diff_days, Length: 475495, dtype: int64"
      ]
     },
     "execution_count": 86,
     "metadata": {},
     "output_type": "execute_result"
    }
   ],
   "source": [
    "result_zero"
   ]
  },
  {
   "cell_type": "code",
   "execution_count": 116,
   "metadata": {},
   "outputs": [
    {
     "data": {
      "text/plain": [
       "1.0990000000000038"
      ]
     },
     "execution_count": 116,
     "metadata": {},
     "output_type": "execute_result"
    }
   ],
   "source": [
    "100 - len(result_sorted[result_sorted < 16])/5000"
   ]
  },
  {
   "cell_type": "code",
   "execution_count": 105,
   "metadata": {},
   "outputs": [],
   "source": [
    "result_df = pd.DataFrame({'time_series': result_modified, 'quant_od_days': result_sorted})"
   ]
  }
 ],
 "metadata": {
  "kernelspec": {
   "display_name": "Python 3",
   "language": "python",
   "name": "python3"
  },
  "language_info": {
   "codemirror_mode": {
    "name": "ipython",
    "version": 3
   },
   "file_extension": ".py",
   "mimetype": "text/x-python",
   "name": "python",
   "nbconvert_exporter": "python",
   "pygments_lexer": "ipython3",
   "version": "3.9.6"
  }
 },
 "nbformat": 4,
 "nbformat_minor": 2
}
